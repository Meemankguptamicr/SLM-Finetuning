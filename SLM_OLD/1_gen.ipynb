{
 "cells": [
  {
   "cell_type": "markdown",
   "metadata": {},
   "source": [
    "# Synthetic dataset generation using Llama 3.1 405B and RAFT\n",
    "\n",
    "This recipe will walk you through using [Meta Llama 3.1 405B](https://aka.ms/c/model/Meta-Llama-3.1-405B-Instruct) deployed on Azure AI to generate a synthetic dataset using UC Berkeley's Gorilla project RAFT method (see [blog post](https://aka.ms/raft-blog))."
   ]
  },
  {
   "cell_type": "markdown",
   "metadata": {},
   "source": [
    "## What is RAFT?\n",
    "\n",
    "RAFT stands for Retrieval Augmented Fine Tuning. The general principle is to use a big LLM such as Llama 3.1 405B to analyse a set of documents and generate a dataset of questions and answers that users might want to ask about those documents. We can then use that QA dataset to fine tune a smaller model such as Llama 3.1 8B. The fine tune model will therefore be better at answering questions about those documents."
   ]
  },
  {
   "cell_type": "markdown",
   "metadata": {},
   "source": [
    "### Analogy: How to prepare a LLM for an Exam? 📝\n",
    "\n",
    "*Note: This description was copied from the [UC Berkeley RAFT blog post](https://aka.ms/raft-blog-ucb).*\n",
    "\n",
    "RAFT is a general recipe to finetune a pretrained LLM to your domain-specific RAG settings. This is a common scenario where you want your LLM to answer questions grounded on a set of documents, for e.g., private files in an enterprise. Such a setting is different from the general RAG where the LLM does not know which domain (of documents) it will be tested on. To better illustrate this setting, let's draw an analogy between deploying and using an LLM with the real-world setting of prepararing for an exam.\n",
    "\n",
    "![RAFT Open book principle](./doc/raft_openbook.png \"RAFT Open book principle\")\n",
    "\n",
    "#### Closed-Book Exam\n",
    "\n",
    "A closed book exam often refers to the scenario where the LLMs do not have access to any additional documents or references to answer the questions during the exam. For LLMs, this is equivalent to the scenario, for example, in which the LLM is used as a chatbot. In this scenario the LLM draws from the knowledge baked in during pre-training and supervised-finetuning to respond to the users' prompt.\n",
    "\n",
    "#### Open-Book Exam\n",
    "\n",
    "In contrast, we liken the open-book exam setting to the scenario in which the LLM can refer to external sources of information (e.g., a website or a book chapter). In such scenarios, typically, the LLM is paired with retriever which retrieves k documents (or specific segments of the document) which are appended to the users' prompt. It is only through these documents retrieved that the LLM gains access to new knowledge. As a result, we argue that the LLM's performance in these settings, where it is trained as a general-purpose LLM is largely dependent on the quality of the retriever and how accurately the retriever can identify the most relevant piece of information.\n",
    "\n",
    "#### RAFT\n",
    "\n",
    "RAFT focuses on a narrower but increasingly popular domain than the general open book exam, called the domain-specific open-book exam. In domain-specific open book exam, we know a priori the domain in which the LLM will be tested --- used for inference. The LLM can respond to the users' prompt using use any and all information from this specific domain, which it has been fine-tuned on. Examples of domain specific examples include enterprise documents, latest news, code repositories belonging to an organization, etc. In all these scenarios, the LLM will be used to respond to the questions, whose answers can be found within a collection of documents (a small practical domain). The retrieval technique itself has little to no-impact on the mechanism (though it may impact the accuracy). This paper mainly studies this, domain-specific open-book setting and how to adapt a pretrained LLM to this specific domain, including how to make it more robust to a varying number of retrieved documents and distractors."
   ]
  },
  {
   "cell_type": "markdown",
   "metadata": {},
   "source": [
    "### RAFT Process: from domain documents to Q/A/CoT dataset splits\n",
    "\n",
    "The process is the following. RAFT takes as input a set of documents, split them into chunks, and for each chunk generates a list of questions, Chain Of Thought answers with a selection of relevant and irrelevant context chunks.\n",
    "\n",
    "![RAFT](./doc/raft.png \"RAFT\")"
   ]
  },
  {
   "cell_type": "markdown",
   "metadata": {},
   "source": [
    "## Running time and cost\n",
    "\n",
    "The RAFT script usually takes a few minutes on the default sample document but can take days on bigger domains depending on the number and size of documents and the number of questions being generated for each chunk.\n",
    "\n",
    "The cost of running this RAFT script on the sample document should be a few dollars. But beware, running it on bigger domains can cost hundreds of dollars if not more. It is safe to run this notebook multiple times though as the costly part, running the `raft.py` script, will only be executed if the dataset doesn't exist yet."
   ]
  },
  {
   "cell_type": "markdown",
   "metadata": {},
   "source": [
    "## Pre-requisites\n",
    "\n",
    "Before running this notebook, let's make sure your environment is ready\n",
    "\n",
    "### 1. Deploy Meta Llama 3.1 405B Instruct as a serverless endpoint.\n",
    "\n",
    "This model will be used to generate the synthetic dataset.\n",
    "\n",
    "You can either use [Azure ML Studio](https://aka.ms/raft-llama-31-learn-deploy-405b) or [Azure AI Studio](https://aka.ms/raft-llama-31-learn-deploy-405b-ai-studio).\n",
    "\n",
    "**Note**: an Azure ML Workspace is the same as a Azure AI Hub, you will be able to go back and forth between the two transparently.\n",
    "\n",
    "### 2. Deploy OpenAI's `text-embedding-ada-002` as a serverless endpoint.\n",
    "\n",
    "This model will be used to create the chunk embeddings.\n",
    "\n",
    "You can follow the same procedure as for the Meta Llama model deployment\n",
    "\n",
    "### 3. Setup your environment variables\n",
    "\n",
    "Copy the `.env.sample` file to `.env` and update according to your Azure AI project configuration and deployed endpoints"
   ]
  },
  {
   "cell_type": "markdown",
   "metadata": {},
   "source": [
    "## Setup the RAFT repository\n",
    " \n",
    "This script will checkout a shallow and narrow clone of the UC Berkeley Gorilla RAFT repository locally so that this notebook can invoke the RAFT script and util functions. It can safely be run multiple times."
   ]
  },
  {
   "cell_type": "code",
   "execution_count": 12,
   "metadata": {},
   "outputs": [],
   "source": [
    "! ./setup_raft.sh"
   ]
  },
  {
   "cell_type": "code",
   "execution_count": 13,
   "metadata": {},
   "outputs": [
    {
     "name": "stderr",
     "output_type": "stream",
     "text": [
      "Cloning into '${RAFT_DIR}'...\n"
     ]
    }
   ],
   "source": [
    "!git clone --no-checkout --depth=1 --filter=tree:0 https://github.com/cedricvidal/gorilla.git --branch raft-distillation-recipe --single-branch ${RAFT_DIR}\n"
   ]
  },
  {
   "cell_type": "markdown",
   "metadata": {},
   "source": [
    "## Install requirements\n",
    "\n",
    "The requirements should have been automatically installed if you opened the project in Dev Container or Codespaces, but if not, uncomment the following cell to install the requirements"
   ]
  },
  {
   "cell_type": "code",
   "execution_count": 1,
   "metadata": {},
   "outputs": [],
   "source": [
    "#! pip install -r requirements.txt"
   ]
  },
  {
   "cell_type": "markdown",
   "metadata": {},
   "source": [
    "## Check instrastructure requirements\n",
    "\n",
    "The following integration tests check that the endpoints are accessible and working before executing the RAFT program"
   ]
  },
  {
   "cell_type": "code",
   "execution_count": 14,
   "metadata": {},
   "outputs": [
    {
     "name": "stdout",
     "output_type": "stream",
     "text": [
      "\u001b[1m============================= test session starts =============================\u001b[0m\n",
      "platform win32 -- Python 3.9.19, pytest-8.1.2, pluggy-1.5.0\n",
      "rootdir: c:\\Users\\meemankgupta\\Documents\\raft-distillation-recipe\\infra\\tests\n",
      "configfile: ..\\..\\pyproject.toml\n",
      "plugins: anyio-4.4.0\n",
      "collected 3 items\n",
      "\n",
      "infra\\tests\\test_baseline.py \u001b[31mF\u001b[0m\u001b[31m                                           [ 33%]\u001b[0m\n",
      "infra\\tests\\test_embeddings.py \u001b[31mF\u001b[0m\u001b[31m                                         [ 66%]\u001b[0m\n",
      "infra\\tests\\test_teacher.py \u001b[31mF\u001b[0m\u001b[31m                                            [100%]\u001b[0m\n",
      "\n",
      "================================== FAILURES ===================================\n",
      "\u001b[31m\u001b[1m________________________________ test_baseline ________________________________\u001b[0m\n",
      "\n",
      "    \u001b[0m\u001b[94mdef\u001b[39;49;00m \u001b[92mtest_baseline\u001b[39;49;00m():\u001b[90m\u001b[39;49;00m\n",
      "        base_url = getenv(\u001b[33m\"\u001b[39;49;00m\u001b[33mBASELINE_OPENAI_BASE_URL\u001b[39;49;00m\u001b[33m\"\u001b[39;49;00m)\u001b[90m\u001b[39;49;00m\n",
      "        key = getenv(\u001b[33m\"\u001b[39;49;00m\u001b[33mBASELINE_OPENAI_API_KEY\u001b[39;49;00m\u001b[33m\"\u001b[39;49;00m)\u001b[90m\u001b[39;49;00m\n",
      "        model = getenv(\u001b[33m\"\u001b[39;49;00m\u001b[33mBASELINE_OPENAI_DEPLOYMENT\u001b[39;49;00m\u001b[33m\"\u001b[39;49;00m)\u001b[90m\u001b[39;49;00m\n",
      ">       do_test_openai_endpoint(base_url, key, model)\u001b[90m\u001b[39;49;00m\n",
      "\n",
      "\u001b[1m\u001b[31minfra\\tests\\test_baseline.py\u001b[0m:12: \n",
      "_ _ _ _ _ _ _ _ _ _ _ _ _ _ _ _ _ _ _ _ _ _ _ _ _ _ _ _ _ _ _ _ _ _ _ _ _ _ _ _\n",
      "\u001b[1m\u001b[31minfra\\tests\\utils.py\u001b[0m:14: in do_test_openai_endpoint\n",
      "    \u001b[0mresponse = client.chat.completions.create(\u001b[90m\u001b[39;49;00m\n",
      "\u001b[1m\u001b[31m..\\..\\anaconda\\envs\\raft_env\\lib\\site-packages\\openai\\_utils\\_utils.py\u001b[0m:271: in wrapper\n",
      "    \u001b[0m\u001b[94mreturn\u001b[39;49;00m func(*args, **kwargs)\u001b[90m\u001b[39;49;00m\n",
      "\u001b[1m\u001b[31m..\\..\\anaconda\\envs\\raft_env\\lib\\site-packages\\openai\\resources\\chat\\completions.py\u001b[0m:659: in create\n",
      "    \u001b[0m\u001b[94mreturn\u001b[39;49;00m \u001b[96mself\u001b[39;49;00m._post(\u001b[90m\u001b[39;49;00m\n",
      "\u001b[1m\u001b[31m..\\..\\anaconda\\envs\\raft_env\\lib\\site-packages\\openai\\_base_client.py\u001b[0m:1180: in post\n",
      "    \u001b[0m\u001b[94mreturn\u001b[39;49;00m cast(ResponseT, \u001b[96mself\u001b[39;49;00m.request(cast_to, opts, stream=stream, stream_cls=stream_cls))\u001b[90m\u001b[39;49;00m\n",
      "\u001b[1m\u001b[31m..\\..\\anaconda\\envs\\raft_env\\lib\\site-packages\\openai\\_base_client.py\u001b[0m:869: in request\n",
      "    \u001b[0m\u001b[94mreturn\u001b[39;49;00m \u001b[96mself\u001b[39;49;00m._request(\u001b[90m\u001b[39;49;00m\n",
      "_ _ _ _ _ _ _ _ _ _ _ _ _ _ _ _ _ _ _ _ _ _ _ _ _ _ _ _ _ _ _ _ _ _ _ _ _ _ _ _\n",
      "\n",
      "self = <openai.OpenAI object at 0x0000019511D71280>\n",
      "\n",
      "    \u001b[0m\u001b[94mdef\u001b[39;49;00m \u001b[92m_request\u001b[39;49;00m(\u001b[90m\u001b[39;49;00m\n",
      "        \u001b[96mself\u001b[39;49;00m,\u001b[90m\u001b[39;49;00m\n",
      "        *,\u001b[90m\u001b[39;49;00m\n",
      "        cast_to: Type[ResponseT],\u001b[90m\u001b[39;49;00m\n",
      "        options: FinalRequestOptions,\u001b[90m\u001b[39;49;00m\n",
      "        remaining_retries: \u001b[96mint\u001b[39;49;00m | \u001b[94mNone\u001b[39;49;00m,\u001b[90m\u001b[39;49;00m\n",
      "        stream: \u001b[96mbool\u001b[39;49;00m,\u001b[90m\u001b[39;49;00m\n",
      "        stream_cls: \u001b[96mtype\u001b[39;49;00m[_StreamT] | \u001b[94mNone\u001b[39;49;00m,\u001b[90m\u001b[39;49;00m\n",
      "    ) -> ResponseT | _StreamT:\u001b[90m\u001b[39;49;00m\n",
      "        cast_to = \u001b[96mself\u001b[39;49;00m._maybe_override_cast_to(cast_to, options)\u001b[90m\u001b[39;49;00m\n",
      "        \u001b[96mself\u001b[39;49;00m._prepare_options(options)\u001b[90m\u001b[39;49;00m\n",
      "    \u001b[90m\u001b[39;49;00m\n",
      "        retries = \u001b[96mself\u001b[39;49;00m._remaining_retries(remaining_retries, options)\u001b[90m\u001b[39;49;00m\n",
      "        request = \u001b[96mself\u001b[39;49;00m._build_request(options)\u001b[90m\u001b[39;49;00m\n",
      "        \u001b[96mself\u001b[39;49;00m._prepare_request(request)\u001b[90m\u001b[39;49;00m\n",
      "    \u001b[90m\u001b[39;49;00m\n",
      "        kwargs: HttpxSendArgs = {}\u001b[90m\u001b[39;49;00m\n",
      "        \u001b[94mif\u001b[39;49;00m \u001b[96mself\u001b[39;49;00m.custom_auth \u001b[95mis\u001b[39;49;00m \u001b[95mnot\u001b[39;49;00m \u001b[94mNone\u001b[39;49;00m:\u001b[90m\u001b[39;49;00m\n",
      "            kwargs[\u001b[33m\"\u001b[39;49;00m\u001b[33mauth\u001b[39;49;00m\u001b[33m\"\u001b[39;49;00m] = \u001b[96mself\u001b[39;49;00m.custom_auth\u001b[90m\u001b[39;49;00m\n",
      "    \u001b[90m\u001b[39;49;00m\n",
      "        \u001b[94mtry\u001b[39;49;00m:\u001b[90m\u001b[39;49;00m\n",
      "            response = \u001b[96mself\u001b[39;49;00m._client.send(\u001b[90m\u001b[39;49;00m\n",
      "                request,\u001b[90m\u001b[39;49;00m\n",
      "                stream=stream \u001b[95mor\u001b[39;49;00m \u001b[96mself\u001b[39;49;00m._should_stream_response_body(request=request),\u001b[90m\u001b[39;49;00m\n",
      "                **kwargs,\u001b[90m\u001b[39;49;00m\n",
      "            )\u001b[90m\u001b[39;49;00m\n",
      "        \u001b[94mexcept\u001b[39;49;00m httpx.TimeoutException \u001b[94mas\u001b[39;49;00m err:\u001b[90m\u001b[39;49;00m\n",
      "            log.debug(\u001b[33m\"\u001b[39;49;00m\u001b[33mEncountered httpx.TimeoutException\u001b[39;49;00m\u001b[33m\"\u001b[39;49;00m, exc_info=\u001b[94mTrue\u001b[39;49;00m)\u001b[90m\u001b[39;49;00m\n",
      "    \u001b[90m\u001b[39;49;00m\n",
      "            \u001b[94mif\u001b[39;49;00m retries > \u001b[94m0\u001b[39;49;00m:\u001b[90m\u001b[39;49;00m\n",
      "                \u001b[94mreturn\u001b[39;49;00m \u001b[96mself\u001b[39;49;00m._retry_request(\u001b[90m\u001b[39;49;00m\n",
      "                    options,\u001b[90m\u001b[39;49;00m\n",
      "                    cast_to,\u001b[90m\u001b[39;49;00m\n",
      "                    retries,\u001b[90m\u001b[39;49;00m\n",
      "                    stream=stream,\u001b[90m\u001b[39;49;00m\n",
      "                    stream_cls=stream_cls,\u001b[90m\u001b[39;49;00m\n",
      "                    response_headers=\u001b[94mNone\u001b[39;49;00m,\u001b[90m\u001b[39;49;00m\n",
      "                )\u001b[90m\u001b[39;49;00m\n",
      "    \u001b[90m\u001b[39;49;00m\n",
      "            log.debug(\u001b[33m\"\u001b[39;49;00m\u001b[33mRaising timeout error\u001b[39;49;00m\u001b[33m\"\u001b[39;49;00m)\u001b[90m\u001b[39;49;00m\n",
      "            \u001b[94mraise\u001b[39;49;00m APITimeoutError(request=request) \u001b[94mfrom\u001b[39;49;00m \u001b[04m\u001b[96merr\u001b[39;49;00m\u001b[90m\u001b[39;49;00m\n",
      "        \u001b[94mexcept\u001b[39;49;00m \u001b[96mException\u001b[39;49;00m \u001b[94mas\u001b[39;49;00m err:\u001b[90m\u001b[39;49;00m\n",
      "            log.debug(\u001b[33m\"\u001b[39;49;00m\u001b[33mEncountered Exception\u001b[39;49;00m\u001b[33m\"\u001b[39;49;00m, exc_info=\u001b[94mTrue\u001b[39;49;00m)\u001b[90m\u001b[39;49;00m\n",
      "    \u001b[90m\u001b[39;49;00m\n",
      "            \u001b[94mif\u001b[39;49;00m retries > \u001b[94m0\u001b[39;49;00m:\u001b[90m\u001b[39;49;00m\n",
      "                \u001b[94mreturn\u001b[39;49;00m \u001b[96mself\u001b[39;49;00m._retry_request(\u001b[90m\u001b[39;49;00m\n",
      "                    options,\u001b[90m\u001b[39;49;00m\n",
      "                    cast_to,\u001b[90m\u001b[39;49;00m\n",
      "                    retries,\u001b[90m\u001b[39;49;00m\n",
      "                    stream=stream,\u001b[90m\u001b[39;49;00m\n",
      "                    stream_cls=stream_cls,\u001b[90m\u001b[39;49;00m\n",
      "                    response_headers=\u001b[94mNone\u001b[39;49;00m,\u001b[90m\u001b[39;49;00m\n",
      "                )\u001b[90m\u001b[39;49;00m\n",
      "    \u001b[90m\u001b[39;49;00m\n",
      "            log.debug(\u001b[33m\"\u001b[39;49;00m\u001b[33mRaising connection error\u001b[39;49;00m\u001b[33m\"\u001b[39;49;00m)\u001b[90m\u001b[39;49;00m\n",
      "            \u001b[94mraise\u001b[39;49;00m APIConnectionError(request=request) \u001b[94mfrom\u001b[39;49;00m \u001b[04m\u001b[96merr\u001b[39;49;00m\u001b[90m\u001b[39;49;00m\n",
      "    \u001b[90m\u001b[39;49;00m\n",
      "        log.debug(\u001b[90m\u001b[39;49;00m\n",
      "            \u001b[33m'\u001b[39;49;00m\u001b[33mHTTP Request: \u001b[39;49;00m\u001b[33m%s\u001b[39;49;00m\u001b[33m \u001b[39;49;00m\u001b[33m%s\u001b[39;49;00m\u001b[33m \u001b[39;49;00m\u001b[33m\"\u001b[39;49;00m\u001b[33m%i\u001b[39;49;00m\u001b[33m \u001b[39;49;00m\u001b[33m%s\u001b[39;49;00m\u001b[33m\"\u001b[39;49;00m\u001b[33m'\u001b[39;49;00m, request.method, request.url, response.status_code, response.reason_phrase\u001b[90m\u001b[39;49;00m\n",
      "        )\u001b[90m\u001b[39;49;00m\n",
      "    \u001b[90m\u001b[39;49;00m\n",
      "        \u001b[94mtry\u001b[39;49;00m:\u001b[90m\u001b[39;49;00m\n",
      "            response.raise_for_status()\u001b[90m\u001b[39;49;00m\n",
      "        \u001b[94mexcept\u001b[39;49;00m httpx.HTTPStatusError \u001b[94mas\u001b[39;49;00m err:  \u001b[90m# thrown on 4xx and 5xx status code\u001b[39;49;00m\u001b[90m\u001b[39;49;00m\n",
      "            log.debug(\u001b[33m\"\u001b[39;49;00m\u001b[33mEncountered httpx.HTTPStatusError\u001b[39;49;00m\u001b[33m\"\u001b[39;49;00m, exc_info=\u001b[94mTrue\u001b[39;49;00m)\u001b[90m\u001b[39;49;00m\n",
      "    \u001b[90m\u001b[39;49;00m\n",
      "            \u001b[94mif\u001b[39;49;00m retries > \u001b[94m0\u001b[39;49;00m \u001b[95mand\u001b[39;49;00m \u001b[96mself\u001b[39;49;00m._should_retry(err.response):\u001b[90m\u001b[39;49;00m\n",
      "                err.response.close()\u001b[90m\u001b[39;49;00m\n",
      "                \u001b[94mreturn\u001b[39;49;00m \u001b[96mself\u001b[39;49;00m._retry_request(\u001b[90m\u001b[39;49;00m\n",
      "                    options,\u001b[90m\u001b[39;49;00m\n",
      "                    cast_to,\u001b[90m\u001b[39;49;00m\n",
      "                    retries,\u001b[90m\u001b[39;49;00m\n",
      "                    err.response.headers,\u001b[90m\u001b[39;49;00m\n",
      "                    stream=stream,\u001b[90m\u001b[39;49;00m\n",
      "                    stream_cls=stream_cls,\u001b[90m\u001b[39;49;00m\n",
      "                )\u001b[90m\u001b[39;49;00m\n",
      "    \u001b[90m\u001b[39;49;00m\n",
      "            \u001b[90m# If the response is streamed then we need to explicitly read the response\u001b[39;49;00m\u001b[90m\u001b[39;49;00m\n",
      "            \u001b[90m# to completion before attempting to access the response text.\u001b[39;49;00m\u001b[90m\u001b[39;49;00m\n",
      "            \u001b[94mif\u001b[39;49;00m \u001b[95mnot\u001b[39;49;00m err.response.is_closed:\u001b[90m\u001b[39;49;00m\n",
      "                err.response.read()\u001b[90m\u001b[39;49;00m\n",
      "    \u001b[90m\u001b[39;49;00m\n",
      "            log.debug(\u001b[33m\"\u001b[39;49;00m\u001b[33mRe-raising status error\u001b[39;49;00m\u001b[33m\"\u001b[39;49;00m)\u001b[90m\u001b[39;49;00m\n",
      ">           \u001b[94mraise\u001b[39;49;00m \u001b[96mself\u001b[39;49;00m._make_status_error_from_response(err.response) \u001b[94mfrom\u001b[39;49;00m \u001b[94mNone\u001b[39;49;00m\u001b[90m\u001b[39;49;00m\n",
      "\u001b[1m\u001b[31mE           openai.NotFoundError: Error code: 404 - {'error': {'code': '404', 'message': 'Resource not found'}}\u001b[0m\n",
      "\n",
      "\u001b[1m\u001b[31m..\\..\\anaconda\\envs\\raft_env\\lib\\site-packages\\openai\\_base_client.py\u001b[0m:960: NotFoundError\n",
      "\u001b[31m\u001b[1m_______________________________ test_embeddings _______________________________\u001b[0m\n",
      "\n",
      "    \u001b[0m\u001b[94mdef\u001b[39;49;00m \u001b[92mtest_embeddings\u001b[39;49;00m():\u001b[90m\u001b[39;49;00m\n",
      "        \u001b[94mfrom\u001b[39;49;00m \u001b[04m\u001b[96mopenai\u001b[39;49;00m \u001b[94mimport\u001b[39;49;00m AzureOpenAI\u001b[90m\u001b[39;49;00m\n",
      "    \u001b[90m\u001b[39;49;00m\n",
      "        \u001b[90m# Authenticate using the default Azure credential chain\u001b[39;49;00m\u001b[90m\u001b[39;49;00m\n",
      "        azure_credential = DefaultAzureCredential()\u001b[90m\u001b[39;49;00m\n",
      "    \u001b[90m\u001b[39;49;00m\n",
      "        model = getenv(\u001b[33m\"\u001b[39;49;00m\u001b[33mEMBEDDING_AZURE_OPENAI_DEPLOYMENT\u001b[39;49;00m\u001b[33m\"\u001b[39;49;00m)\u001b[90m\u001b[39;49;00m\n",
      "        \u001b[94massert\u001b[39;49;00m model \u001b[95mis\u001b[39;49;00m \u001b[95mnot\u001b[39;49;00m \u001b[94mNone\u001b[39;49;00m\u001b[90m\u001b[39;49;00m\n",
      "    \u001b[90m\u001b[39;49;00m\n",
      "        endpoint = getenv(\u001b[33m\"\u001b[39;49;00m\u001b[33mEMBEDDING_AZURE_OPENAI_ENDPOINT\u001b[39;49;00m\u001b[33m\"\u001b[39;49;00m)\u001b[90m\u001b[39;49;00m\n",
      "        \u001b[94massert\u001b[39;49;00m endpoint \u001b[95mis\u001b[39;49;00m \u001b[95mnot\u001b[39;49;00m \u001b[94mNone\u001b[39;49;00m\u001b[90m\u001b[39;49;00m\n",
      "    \u001b[90m\u001b[39;49;00m\n",
      "        version = getenv(\u001b[33m\"\u001b[39;49;00m\u001b[33mEMBEDDING_OPENAI_API_VERSION\u001b[39;49;00m\u001b[33m\"\u001b[39;49;00m)\u001b[90m\u001b[39;49;00m\n",
      "        \u001b[94massert\u001b[39;49;00m version \u001b[95mis\u001b[39;49;00m \u001b[95mnot\u001b[39;49;00m \u001b[94mNone\u001b[39;49;00m\u001b[90m\u001b[39;49;00m\n",
      "    \u001b[90m\u001b[39;49;00m\n",
      "        oai_client = AzureOpenAI(\u001b[90m\u001b[39;49;00m\n",
      "            api_version = version,\u001b[90m\u001b[39;49;00m\n",
      "            azure_endpoint = endpoint,\u001b[90m\u001b[39;49;00m\n",
      "            azure_ad_token_provider = get_bearer_token_provider(\u001b[90m\u001b[39;49;00m\n",
      "                azure_credential, \u001b[33m\"\u001b[39;49;00m\u001b[33mhttps://cognitiveservices.azure.com/.default\u001b[39;49;00m\u001b[33m\"\u001b[39;49;00m)\u001b[90m\u001b[39;49;00m\n",
      "            )\u001b[90m\u001b[39;49;00m\n",
      ">       response = oai_client.embeddings.create(\u001b[96minput\u001b[39;49;00m = [\u001b[33m\"\u001b[39;49;00m\u001b[33mHello\u001b[39;49;00m\u001b[33m\"\u001b[39;49;00m], model=model)\u001b[90m\u001b[39;49;00m\n",
      "\n",
      "\u001b[1m\u001b[31minfra\\tests\\test_embeddings.py\u001b[0m:31: \n",
      "_ _ _ _ _ _ _ _ _ _ _ _ _ _ _ _ _ _ _ _ _ _ _ _ _ _ _ _ _ _ _ _ _ _ _ _ _ _ _ _\n",
      "\u001b[1m\u001b[31m..\\..\\anaconda\\envs\\raft_env\\lib\\site-packages\\openai\\resources\\embeddings.py\u001b[0m:113: in create\n",
      "    \u001b[0m\u001b[94mreturn\u001b[39;49;00m \u001b[96mself\u001b[39;49;00m._post(\u001b[90m\u001b[39;49;00m\n",
      "\u001b[1m\u001b[31m..\\..\\anaconda\\envs\\raft_env\\lib\\site-packages\\openai\\_base_client.py\u001b[0m:1180: in post\n",
      "    \u001b[0m\u001b[94mreturn\u001b[39;49;00m cast(ResponseT, \u001b[96mself\u001b[39;49;00m.request(cast_to, opts, stream=stream, stream_cls=stream_cls))\u001b[90m\u001b[39;49;00m\n",
      "\u001b[1m\u001b[31m..\\..\\anaconda\\envs\\raft_env\\lib\\site-packages\\openai\\_base_client.py\u001b[0m:869: in request\n",
      "    \u001b[0m\u001b[94mreturn\u001b[39;49;00m \u001b[96mself\u001b[39;49;00m._request(\u001b[90m\u001b[39;49;00m\n",
      "_ _ _ _ _ _ _ _ _ _ _ _ _ _ _ _ _ _ _ _ _ _ _ _ _ _ _ _ _ _ _ _ _ _ _ _ _ _ _ _\n",
      "\n",
      "self = <openai.lib.azure.AzureOpenAI object at 0x0000019512454820>\n",
      "\n",
      "    \u001b[0m\u001b[94mdef\u001b[39;49;00m \u001b[92m_request\u001b[39;49;00m(\u001b[90m\u001b[39;49;00m\n",
      "        \u001b[96mself\u001b[39;49;00m,\u001b[90m\u001b[39;49;00m\n",
      "        *,\u001b[90m\u001b[39;49;00m\n",
      "        cast_to: Type[ResponseT],\u001b[90m\u001b[39;49;00m\n",
      "        options: FinalRequestOptions,\u001b[90m\u001b[39;49;00m\n",
      "        remaining_retries: \u001b[96mint\u001b[39;49;00m | \u001b[94mNone\u001b[39;49;00m,\u001b[90m\u001b[39;49;00m\n",
      "        stream: \u001b[96mbool\u001b[39;49;00m,\u001b[90m\u001b[39;49;00m\n",
      "        stream_cls: \u001b[96mtype\u001b[39;49;00m[_StreamT] | \u001b[94mNone\u001b[39;49;00m,\u001b[90m\u001b[39;49;00m\n",
      "    ) -> ResponseT | _StreamT:\u001b[90m\u001b[39;49;00m\n",
      "        cast_to = \u001b[96mself\u001b[39;49;00m._maybe_override_cast_to(cast_to, options)\u001b[90m\u001b[39;49;00m\n",
      "        \u001b[96mself\u001b[39;49;00m._prepare_options(options)\u001b[90m\u001b[39;49;00m\n",
      "    \u001b[90m\u001b[39;49;00m\n",
      "        retries = \u001b[96mself\u001b[39;49;00m._remaining_retries(remaining_retries, options)\u001b[90m\u001b[39;49;00m\n",
      "        request = \u001b[96mself\u001b[39;49;00m._build_request(options)\u001b[90m\u001b[39;49;00m\n",
      "        \u001b[96mself\u001b[39;49;00m._prepare_request(request)\u001b[90m\u001b[39;49;00m\n",
      "    \u001b[90m\u001b[39;49;00m\n",
      "        kwargs: HttpxSendArgs = {}\u001b[90m\u001b[39;49;00m\n",
      "        \u001b[94mif\u001b[39;49;00m \u001b[96mself\u001b[39;49;00m.custom_auth \u001b[95mis\u001b[39;49;00m \u001b[95mnot\u001b[39;49;00m \u001b[94mNone\u001b[39;49;00m:\u001b[90m\u001b[39;49;00m\n",
      "            kwargs[\u001b[33m\"\u001b[39;49;00m\u001b[33mauth\u001b[39;49;00m\u001b[33m\"\u001b[39;49;00m] = \u001b[96mself\u001b[39;49;00m.custom_auth\u001b[90m\u001b[39;49;00m\n",
      "    \u001b[90m\u001b[39;49;00m\n",
      "        \u001b[94mtry\u001b[39;49;00m:\u001b[90m\u001b[39;49;00m\n",
      "            response = \u001b[96mself\u001b[39;49;00m._client.send(\u001b[90m\u001b[39;49;00m\n",
      "                request,\u001b[90m\u001b[39;49;00m\n",
      "                stream=stream \u001b[95mor\u001b[39;49;00m \u001b[96mself\u001b[39;49;00m._should_stream_response_body(request=request),\u001b[90m\u001b[39;49;00m\n",
      "                **kwargs,\u001b[90m\u001b[39;49;00m\n",
      "            )\u001b[90m\u001b[39;49;00m\n",
      "        \u001b[94mexcept\u001b[39;49;00m httpx.TimeoutException \u001b[94mas\u001b[39;49;00m err:\u001b[90m\u001b[39;49;00m\n",
      "            log.debug(\u001b[33m\"\u001b[39;49;00m\u001b[33mEncountered httpx.TimeoutException\u001b[39;49;00m\u001b[33m\"\u001b[39;49;00m, exc_info=\u001b[94mTrue\u001b[39;49;00m)\u001b[90m\u001b[39;49;00m\n",
      "    \u001b[90m\u001b[39;49;00m\n",
      "            \u001b[94mif\u001b[39;49;00m retries > \u001b[94m0\u001b[39;49;00m:\u001b[90m\u001b[39;49;00m\n",
      "                \u001b[94mreturn\u001b[39;49;00m \u001b[96mself\u001b[39;49;00m._retry_request(\u001b[90m\u001b[39;49;00m\n",
      "                    options,\u001b[90m\u001b[39;49;00m\n",
      "                    cast_to,\u001b[90m\u001b[39;49;00m\n",
      "                    retries,\u001b[90m\u001b[39;49;00m\n",
      "                    stream=stream,\u001b[90m\u001b[39;49;00m\n",
      "                    stream_cls=stream_cls,\u001b[90m\u001b[39;49;00m\n",
      "                    response_headers=\u001b[94mNone\u001b[39;49;00m,\u001b[90m\u001b[39;49;00m\n",
      "                )\u001b[90m\u001b[39;49;00m\n",
      "    \u001b[90m\u001b[39;49;00m\n",
      "            log.debug(\u001b[33m\"\u001b[39;49;00m\u001b[33mRaising timeout error\u001b[39;49;00m\u001b[33m\"\u001b[39;49;00m)\u001b[90m\u001b[39;49;00m\n",
      "            \u001b[94mraise\u001b[39;49;00m APITimeoutError(request=request) \u001b[94mfrom\u001b[39;49;00m \u001b[04m\u001b[96merr\u001b[39;49;00m\u001b[90m\u001b[39;49;00m\n",
      "        \u001b[94mexcept\u001b[39;49;00m \u001b[96mException\u001b[39;49;00m \u001b[94mas\u001b[39;49;00m err:\u001b[90m\u001b[39;49;00m\n",
      "            log.debug(\u001b[33m\"\u001b[39;49;00m\u001b[33mEncountered Exception\u001b[39;49;00m\u001b[33m\"\u001b[39;49;00m, exc_info=\u001b[94mTrue\u001b[39;49;00m)\u001b[90m\u001b[39;49;00m\n",
      "    \u001b[90m\u001b[39;49;00m\n",
      "            \u001b[94mif\u001b[39;49;00m retries > \u001b[94m0\u001b[39;49;00m:\u001b[90m\u001b[39;49;00m\n",
      "                \u001b[94mreturn\u001b[39;49;00m \u001b[96mself\u001b[39;49;00m._retry_request(\u001b[90m\u001b[39;49;00m\n",
      "                    options,\u001b[90m\u001b[39;49;00m\n",
      "                    cast_to,\u001b[90m\u001b[39;49;00m\n",
      "                    retries,\u001b[90m\u001b[39;49;00m\n",
      "                    stream=stream,\u001b[90m\u001b[39;49;00m\n",
      "                    stream_cls=stream_cls,\u001b[90m\u001b[39;49;00m\n",
      "                    response_headers=\u001b[94mNone\u001b[39;49;00m,\u001b[90m\u001b[39;49;00m\n",
      "                )\u001b[90m\u001b[39;49;00m\n",
      "    \u001b[90m\u001b[39;49;00m\n",
      "            log.debug(\u001b[33m\"\u001b[39;49;00m\u001b[33mRaising connection error\u001b[39;49;00m\u001b[33m\"\u001b[39;49;00m)\u001b[90m\u001b[39;49;00m\n",
      "            \u001b[94mraise\u001b[39;49;00m APIConnectionError(request=request) \u001b[94mfrom\u001b[39;49;00m \u001b[04m\u001b[96merr\u001b[39;49;00m\u001b[90m\u001b[39;49;00m\n",
      "    \u001b[90m\u001b[39;49;00m\n",
      "        log.debug(\u001b[90m\u001b[39;49;00m\n",
      "            \u001b[33m'\u001b[39;49;00m\u001b[33mHTTP Request: \u001b[39;49;00m\u001b[33m%s\u001b[39;49;00m\u001b[33m \u001b[39;49;00m\u001b[33m%s\u001b[39;49;00m\u001b[33m \u001b[39;49;00m\u001b[33m\"\u001b[39;49;00m\u001b[33m%i\u001b[39;49;00m\u001b[33m \u001b[39;49;00m\u001b[33m%s\u001b[39;49;00m\u001b[33m\"\u001b[39;49;00m\u001b[33m'\u001b[39;49;00m, request.method, request.url, response.status_code, response.reason_phrase\u001b[90m\u001b[39;49;00m\n",
      "        )\u001b[90m\u001b[39;49;00m\n",
      "    \u001b[90m\u001b[39;49;00m\n",
      "        \u001b[94mtry\u001b[39;49;00m:\u001b[90m\u001b[39;49;00m\n",
      "            response.raise_for_status()\u001b[90m\u001b[39;49;00m\n",
      "        \u001b[94mexcept\u001b[39;49;00m httpx.HTTPStatusError \u001b[94mas\u001b[39;49;00m err:  \u001b[90m# thrown on 4xx and 5xx status code\u001b[39;49;00m\u001b[90m\u001b[39;49;00m\n",
      "            log.debug(\u001b[33m\"\u001b[39;49;00m\u001b[33mEncountered httpx.HTTPStatusError\u001b[39;49;00m\u001b[33m\"\u001b[39;49;00m, exc_info=\u001b[94mTrue\u001b[39;49;00m)\u001b[90m\u001b[39;49;00m\n",
      "    \u001b[90m\u001b[39;49;00m\n",
      "            \u001b[94mif\u001b[39;49;00m retries > \u001b[94m0\u001b[39;49;00m \u001b[95mand\u001b[39;49;00m \u001b[96mself\u001b[39;49;00m._should_retry(err.response):\u001b[90m\u001b[39;49;00m\n",
      "                err.response.close()\u001b[90m\u001b[39;49;00m\n",
      "                \u001b[94mreturn\u001b[39;49;00m \u001b[96mself\u001b[39;49;00m._retry_request(\u001b[90m\u001b[39;49;00m\n",
      "                    options,\u001b[90m\u001b[39;49;00m\n",
      "                    cast_to,\u001b[90m\u001b[39;49;00m\n",
      "                    retries,\u001b[90m\u001b[39;49;00m\n",
      "                    err.response.headers,\u001b[90m\u001b[39;49;00m\n",
      "                    stream=stream,\u001b[90m\u001b[39;49;00m\n",
      "                    stream_cls=stream_cls,\u001b[90m\u001b[39;49;00m\n",
      "                )\u001b[90m\u001b[39;49;00m\n",
      "    \u001b[90m\u001b[39;49;00m\n",
      "            \u001b[90m# If the response is streamed then we need to explicitly read the response\u001b[39;49;00m\u001b[90m\u001b[39;49;00m\n",
      "            \u001b[90m# to completion before attempting to access the response text.\u001b[39;49;00m\u001b[90m\u001b[39;49;00m\n",
      "            \u001b[94mif\u001b[39;49;00m \u001b[95mnot\u001b[39;49;00m err.response.is_closed:\u001b[90m\u001b[39;49;00m\n",
      "                err.response.read()\u001b[90m\u001b[39;49;00m\n",
      "    \u001b[90m\u001b[39;49;00m\n",
      "            log.debug(\u001b[33m\"\u001b[39;49;00m\u001b[33mRe-raising status error\u001b[39;49;00m\u001b[33m\"\u001b[39;49;00m)\u001b[90m\u001b[39;49;00m\n",
      ">           \u001b[94mraise\u001b[39;49;00m \u001b[96mself\u001b[39;49;00m._make_status_error_from_response(err.response) \u001b[94mfrom\u001b[39;49;00m \u001b[94mNone\u001b[39;49;00m\u001b[90m\u001b[39;49;00m\n",
      "\u001b[1m\u001b[31mE           openai.BadRequestError: Error code: 400 - {'error': {'code': 'Tenant provided in token does not match resource token', 'message': 'Token tenant 72f988bf-86f1-41af-91ab-2d7cd011db47 does not match resource tenant.'}}\u001b[0m\n",
      "\n",
      "\u001b[1m\u001b[31m..\\..\\anaconda\\envs\\raft_env\\lib\\site-packages\\openai\\_base_client.py\u001b[0m:960: BadRequestError\n",
      "\u001b[31m\u001b[1m________________________________ test_teacher _________________________________\u001b[0m\n",
      "\n",
      "    \u001b[0m\u001b[94mdef\u001b[39;49;00m \u001b[92mtest_teacher\u001b[39;49;00m():\u001b[90m\u001b[39;49;00m\n",
      "        base_url = getenv(\u001b[33m\"\u001b[39;49;00m\u001b[33mCOMPLETION_OPENAI_BASE_URL\u001b[39;49;00m\u001b[33m\"\u001b[39;49;00m)\u001b[90m\u001b[39;49;00m\n",
      "        key = getenv(\u001b[33m\"\u001b[39;49;00m\u001b[33mCOMPLETION_OPENAI_API_KEY\u001b[39;49;00m\u001b[33m\"\u001b[39;49;00m)\u001b[90m\u001b[39;49;00m\n",
      "        model = getenv(\u001b[33m\"\u001b[39;49;00m\u001b[33mCOMPLETION_OPENAI_DEPLOYMENT\u001b[39;49;00m\u001b[33m\"\u001b[39;49;00m)\u001b[90m\u001b[39;49;00m\n",
      ">       do_test_openai_endpoint(base_url, key, model)\u001b[90m\u001b[39;49;00m\n",
      "\n",
      "\u001b[1m\u001b[31minfra\\tests\\test_teacher.py\u001b[0m:12: \n",
      "_ _ _ _ _ _ _ _ _ _ _ _ _ _ _ _ _ _ _ _ _ _ _ _ _ _ _ _ _ _ _ _ _ _ _ _ _ _ _ _\n",
      "\n",
      "base_url = 'https://aoi-meemank.openai.azure.com/openai/deployments/gpt4o/chat/completions?api-version=2023-03-15-preview'\n",
      "key = '772624b8d13c4d19a12e77108401695e', model = None\n",
      "\n",
      "    \u001b[0m\u001b[94mdef\u001b[39;49;00m \u001b[92mdo_test_openai_endpoint\u001b[39;49;00m(base_url, key, model):\u001b[90m\u001b[39;49;00m\n",
      "        \u001b[94mfrom\u001b[39;49;00m \u001b[04m\u001b[96mopenai\u001b[39;49;00m \u001b[94mimport\u001b[39;49;00m AzureOpenAI\u001b[90m\u001b[39;49;00m\n",
      "    \u001b[90m\u001b[39;49;00m\n",
      ">       \u001b[94massert\u001b[39;49;00m model \u001b[95mis\u001b[39;49;00m \u001b[95mnot\u001b[39;49;00m \u001b[94mNone\u001b[39;49;00m\u001b[90m\u001b[39;49;00m\n",
      "\u001b[1m\u001b[31mE       AssertionError\u001b[0m\n",
      "\n",
      "\u001b[1m\u001b[31minfra\\tests\\utils.py\u001b[0m:6: AssertionError\n",
      "\u001b[33m============================== warnings summary ===============================\u001b[0m\n",
      "test_embeddings.py::test_embeddings\n",
      "test_embeddings.py::test_embeddings\n",
      "test_embeddings.py::test_embeddings\n",
      "  c:\\Users\\meemankgupta\\anaconda\\envs\\raft_env\\lib\\site-packages\\msal\\token_cache.py:164: DeprecationWarning: Use list(search(...)) instead to explicitly get a list.\n",
      "    warnings.warn(\n",
      "\n",
      "-- Docs: https://docs.pytest.org/en/stable/how-to/capture-warnings.html\n",
      "\u001b[36m\u001b[1m=========================== short test summary info ===========================\u001b[0m\n",
      "\u001b[31mFAILED\u001b[0m infra\\tests\\test_baseline.py::\u001b[1mtest_baseline\u001b[0m - openai.NotFoundError: Error code: 404 - {'error': {'code': '404', 'message'...\n",
      "\u001b[31mFAILED\u001b[0m infra\\tests\\test_embeddings.py::\u001b[1mtest_embeddings\u001b[0m - openai.BadRequestError: Error code: 400 - {'error': {'code': 'Tenant provid...\n",
      "\u001b[31mFAILED\u001b[0m infra\\tests\\test_teacher.py::\u001b[1mtest_teacher\u001b[0m - AssertionError\n",
      "\u001b[31m======================= \u001b[31m\u001b[1m3 failed\u001b[0m, \u001b[33m3 warnings\u001b[0m\u001b[31m in 11.92s\u001b[0m\u001b[31m ========================\u001b[0m\n"
     ]
    }
   ],
   "source": [
    "! python -m pytest --rootdir=infra/tests/"
   ]
  },
  {
   "cell_type": "markdown",
   "metadata": {},
   "source": [
    "## Select the documents"
   ]
  },
  {
   "cell_type": "markdown",
   "metadata": {},
   "source": [
    "#### Notebook parameters\n",
    "\n",
    "*Note: Parameters are typed as indicated for Papermill introspection*"
   ]
  },
  {
   "cell_type": "code",
   "execution_count": null,
   "metadata": {
    "tags": [
     "parameters"
    ]
   },
   "outputs": [],
   "source": [
    "ds_name: str = \"surfing\"\n",
    "doc_path: str = \"sample_data/surfing/Surfing - Wikipedia.pdf\"\n",
    "format: str = \"chat\"\n",
    "finetuning_train_split : int = .8\n",
    "finetuning_valid_split : int = .1"
   ]
  },
  {
   "cell_type": "code",
   "execution_count": null,
   "metadata": {},
   "outputs": [],
   "source": [
    "import pandas as pd\n",
    "from utils import update_state\n",
    "\n",
    "ds_path = f\"dataset/{ds_name}\"\n",
    "ds_output_file = f\"{ds_path}.jsonl\"\n",
    "update_state(\"DATASET_NAME\", ds_name)\n",
    "print(\"Creating dataset: \" + ds_name)"
   ]
  },
  {
   "cell_type": "markdown",
   "metadata": {},
   "source": [
    "### Overview of PDF"
   ]
  },
  {
   "cell_type": "code",
   "execution_count": null,
   "metadata": {},
   "outputs": [],
   "source": [
    "from utils import get_pdf_image\n",
    "from pathlib import Path\n",
    "\n",
    "pdf_image = None\n",
    "if Path(doc_path).exists() and Path(doc_path).is_file() and Path(doc_path).suffix == \".pdf\":\n",
    "    pdf_image = get_pdf_image(doc_path)\n",
    "pdf_image"
   ]
  },
  {
   "cell_type": "markdown",
   "metadata": {},
   "source": [
    "### Generate Q/A/CoT fine-tuning dataset using RAFT from the domain specific documents"
   ]
  },
  {
   "cell_type": "markdown",
   "metadata": {},
   "source": [
    "The `--completion_model` and `--embedding_model` parameters refer to the names of the deployments of the models in Azure.\n",
    "\n",
    "**Note about `--qa-threshold`**: The Azure AI Finetuning service requires a minimum of 65 samples in the training split so in order to make this notebook run as quickly as possible with a demo dataset, we calculate the minimum number of samples we need to generate overall using the `finetuning_threshold` and the `finetuning_train_split`."
   ]
  },
  {
   "cell_type": "code",
   "execution_count": null,
   "metadata": {},
   "outputs": [],
   "source": [
    "from math import ceil\n",
    "finetuning_threshold = 65\n",
    "qa_threshold = ceil(finetuning_threshold / finetuning_train_split)\n",
    "print(f\"QA threshold: {qa_threshold}\")"
   ]
  },
  {
   "cell_type": "code",
   "execution_count": null,
   "metadata": {},
   "outputs": [],
   "source": [
    "! [ ! -f $ds_output_file ] && env $(cat .env .env.state) python3 .gorilla/raft/raft.py \\\n",
    "    --datapath \"$doc_path\" \\\n",
    "    --output $ds_path \\\n",
    "    --distractors 3 \\\n",
    "    --doctype pdf \\\n",
    "    --chunk_size 512 \\\n",
    "    --questions 2 \\\n",
    "    --workers 2 \\\n",
    "    --system-prompt-key llama \\\n",
    "    --completion_model Meta-Llama-3-70B-Instruct \\\n",
    "    --embedding_model text-embedding-ada-002 \\\n",
    "    --qa-threshold $qa_threshold \\\n",
    "    || echo \"Dataset already generated, skipping generation.\""
   ]
  },
  {
   "cell_type": "markdown",
   "metadata": {},
   "source": [
    "*Note*: The bit of shell logic wrapping the python script call allows to skip the generation if the dataset has already been generated so it is safe to run this notebook multiple times."
   ]
  },
  {
   "cell_type": "markdown",
   "metadata": {},
   "source": [
    "## Prepare training, validation and evaluation splits"
   ]
  },
  {
   "cell_type": "markdown",
   "metadata": {},
   "source": [
    "Let's define variables for the different files we will need throughout this notebook"
   ]
  },
  {
   "cell_type": "code",
   "execution_count": null,
   "metadata": {},
   "outputs": [],
   "source": [
    "raft_arrow_file = f\"{ds_path}/data-00000-of-00001.arrow\"\n",
    "dataset_path = f\"{ds_path}-files/{ds_name}-full.jsonl\"\n",
    "dataset_path_hf = f\"{ds_path}-files/{ds_name}-hf.full.jsonl\"\n",
    "\n",
    "dataset_path_hf_train = f\"{ds_path}-files/{ds_name}-hf.train.jsonl\"\n",
    "dataset_path_hf_valid = f\"{ds_path}-files/{ds_name}-hf.valid.jsonl\"\n",
    "dataset_path_hf_eval = f\"{ds_path}-files/{ds_name}-hf.eval.jsonl\"\n",
    "\n",
    "dataset_path_ft_train = f\"{ds_path}-files/{ds_name}-ft.train.jsonl\"\n",
    "dataset_path_ft_valid = f\"{ds_path}-files/{ds_name}-ft.valid.jsonl\"\n",
    "\n",
    "print(f\"Reading arrow file {raft_arrow_file}\")"
   ]
  },
  {
   "cell_type": "markdown",
   "metadata": {},
   "source": [
    "### Export dataset to JSONL"
   ]
  },
  {
   "cell_type": "markdown",
   "metadata": {},
   "source": [
    "Let's export the Apache Arrow format file to JSONL, easier to manipulate"
   ]
  },
  {
   "cell_type": "code",
   "execution_count": null,
   "metadata": {},
   "outputs": [],
   "source": [
    "! python .gorilla/raft/format.py \\\n",
    "    --input $raft_arrow_file \\\n",
    "    --output $dataset_path_hf \\\n",
    "    --output-format hf"
   ]
  },
  {
   "cell_type": "code",
   "execution_count": null,
   "metadata": {},
   "outputs": [],
   "source": [
    "hf_full_df = pd.read_json(dataset_path_hf, lines=True)\n",
    "hf_full_df.head(5)"
   ]
  },
  {
   "cell_type": "markdown",
   "metadata": {},
   "source": [
    "## Let's look at a sample"
   ]
  },
  {
   "cell_type": "code",
   "execution_count": null,
   "metadata": {},
   "outputs": [],
   "source": [
    "from IPython.display import display, Markdown\n",
    "from random import randint\n",
    "\n",
    "sample_idx = randint(0, len(hf_full_df) - 1)\n",
    "sample = hf_full_df.iloc[sample_idx]\n",
    "instruction_md = sample.instruction.replace(\"<DOCUMENT>\", \"`<DOCUMENT>`\").replace(\"</DOCUMENT>\", \"`</DOCUMENT>`\")\n",
    "oracle_context_md = sample.oracle_context.replace(\"<DOCUMENT>\", \"`<DOCUMENT>`\").replace(\"</DOCUMENT>\", \"`</DOCUMENT>`\")\n",
    "sample_answer_md = sample.cot_answer.replace(\"<ANSWER>\", \"`<ANSWER>`\").replace(\"##begin_quote##\", \"`##begin_quote##`\").replace(\"##end_quote##\", \"`##end_quote##`\")\n",
    "display(Markdown(f\"## Oracle Context\\n{oracle_context_md}\\n\\n## Question\\n{sample.question}\\n\\n## CoT Answer\\n{sample_answer_md}\\n\\n## Instruction\\n{instruction_md}\"))"
   ]
  },
  {
   "cell_type": "markdown",
   "metadata": {},
   "source": [
    "### Split the dataset into train / validation / evaluation"
   ]
  },
  {
   "cell_type": "code",
   "execution_count": null,
   "metadata": {},
   "outputs": [],
   "source": [
    "# split dataset into 80%/10%/10%\n",
    "import numpy as np\n",
    "\n",
    "samples_count = len(hf_full_df)\n",
    "splits = [int(finetuning_train_split * samples_count), int((finetuning_train_split + finetuning_valid_split) * samples_count)]\n",
    "print(f\"Splitting dataset at {splits}\")\n",
    "hf_train_df, hf_valid_df, hf_eval_df = np.split(hf_full_df, splits)\n",
    "hf_train_df.to_json(dataset_path_hf_train, orient=\"records\", lines=True)\n",
    "hf_valid_df.to_json(dataset_path_hf_valid, orient=\"records\", lines=True)\n",
    "hf_eval_df.to_json(dataset_path_hf_eval, orient=\"records\", lines=True)"
   ]
  },
  {
   "cell_type": "markdown",
   "metadata": {},
   "source": [
    "### Export training and validation splits into JSONL format"
   ]
  },
  {
   "cell_type": "code",
   "execution_count": null,
   "metadata": {},
   "outputs": [],
   "source": [
    "! python .gorilla/raft/format.py \\\n",
    "    --input $dataset_path_hf_train \\\n",
    "    --input-type jsonl \\\n",
    "    --output $dataset_path_ft_train \\\n",
    "    --output-format $format \\\n",
    "    --output-completion-prompt-column text\\\n",
    "    --output-completion-completion-column ground_truth"
   ]
  },
  {
   "cell_type": "code",
   "execution_count": null,
   "metadata": {},
   "outputs": [],
   "source": [
    "! python .gorilla/raft/format.py \\\n",
    "    --input $dataset_path_hf_valid \\\n",
    "    --input-type jsonl \\\n",
    "    --output $dataset_path_ft_valid \\\n",
    "    --output-format $format \\\n",
    "    --output-completion-prompt-column text\\\n",
    "    --output-completion-completion-column ground_truth"
   ]
  },
  {
   "cell_type": "code",
   "execution_count": null,
   "metadata": {},
   "outputs": [],
   "source": [
    "dataset_path_ft_valid_df = pd.read_json(dataset_path_ft_valid, lines=True)\n",
    "dataset_path_ft_valid_df.head(2)"
   ]
  },
  {
   "cell_type": "markdown",
   "metadata": {},
   "source": [
    "### Keep the evaluation split aside"
   ]
  },
  {
   "cell_type": "markdown",
   "metadata": {},
   "source": [
    "We don't need to format the evaluation dataset for now"
   ]
  },
  {
   "cell_type": "code",
   "execution_count": null,
   "metadata": {},
   "outputs": [],
   "source": [
    "pd.read_json(dataset_path_hf_eval, lines=True).head(2)"
   ]
  },
  {
   "cell_type": "markdown",
   "metadata": {},
   "source": []
  }
 ],
 "metadata": {
  "kernelspec": {
   "display_name": "Python 3 (ipykernel)",
   "language": "python",
   "name": "python3"
  },
  "language_info": {
   "codemirror_mode": {
    "name": "ipython",
    "version": 3
   },
   "file_extension": ".py",
   "mimetype": "text/x-python",
   "name": "python",
   "nbconvert_exporter": "python",
   "pygments_lexer": "ipython3",
   "version": "3.9.19"
  }
 },
 "nbformat": 4,
 "nbformat_minor": 4
}
