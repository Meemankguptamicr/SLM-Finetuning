{
 "cells": [
  {
   "cell_type": "code",
   "execution_count": 3,
   "id": "23cde469-d817-462c-8f3c-be5636bde42f",
   "metadata": {
    "tags": []
   },
   "outputs": [],
   "source": [
    "#%pip install coloredlogs"
   ]
  },
  {
   "cell_type": "code",
   "execution_count": null,
   "id": "0c0c5834-94e4-448f-b113-ee2cd94d93c9",
   "metadata": {},
   "outputs": [],
   "source": []
  }
 ],
 "metadata": {
  "kernelspec": {
   "display_name": "Python 3.10 - SDK v2",
   "language": "python",
   "name": "python310-sdkv2"
  },
  "language_info": {
   "codemirror_mode": {
    "name": "ipython",
    "version": 3
   },
   "file_extension": ".py",
   "mimetype": "text/x-python",
   "name": "python",
   "nbconvert_exporter": "python",
   "pygments_lexer": "ipython3",
   "version": "3.10.14"
  }
 },
 "nbformat": 4,
 "nbformat_minor": 5
}
