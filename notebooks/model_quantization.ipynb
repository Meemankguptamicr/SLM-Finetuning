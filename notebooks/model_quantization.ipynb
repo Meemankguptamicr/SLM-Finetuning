{
 "cells": [
  {
   "cell_type": "code",
   "execution_count": 5,
   "id": "c7922493-5b90-44ca-8e02-ac80a6a44dd7",
   "metadata": {
    "tags": []
   },
   "outputs": [
    {
     "ename": "ModuleNotFoundError",
     "evalue": "No module named 'onnxruntime'",
     "output_type": "error",
     "traceback": [
      "\u001b[0;31m---------------------------------------------------------------------------\u001b[0m",
      "\u001b[0;31mModuleNotFoundError\u001b[0m                       Traceback (most recent call last)",
      "Cell \u001b[0;32mIn[5], line 19\u001b[0m\n\u001b[1;32m     16\u001b[0m \u001b[38;5;28;01mimport\u001b[39;00m \u001b[38;5;21;01mnumpy\u001b[39;00m\n\u001b[1;32m     17\u001b[0m \u001b[38;5;28;01mfrom\u001b[39;00m \u001b[38;5;21;01mpackaging\u001b[39;00m \u001b[38;5;28;01mimport\u001b[39;00m version\n\u001b[0;32m---> 19\u001b[0m \u001b[38;5;28;01mimport\u001b[39;00m \u001b[38;5;21;01monnxruntime\u001b[39;00m\n",
      "\u001b[0;31mModuleNotFoundError\u001b[0m: No module named 'onnxruntime'"
     ]
    }
   ],
   "source": [
    "import csv\n",
    "import logging\n",
    "import os\n",
    "import random\n",
    "import sys\n",
    "import time\n",
    "import timeit\n",
    "from abc import ABC, abstractmethod\n",
    "from concurrent.futures import ThreadPoolExecutor\n",
    "from datetime import datetime\n",
    "from enum import Enum\n",
    "from time import sleep\n",
    "from typing import Any, Dict, List, Optional\n",
    "\n",
    "import coloredlogs\n",
    "import numpy\n",
    "from packaging import version"
   ]
  },
  {
   "cell_type": "code",
   "execution_count": 3,
   "id": "23cde469-d817-462c-8f3c-be5636bde42f",
   "metadata": {
    "tags": []
   },
   "outputs": [],
   "source": [
    "#%pip install coloredlogs"
   ]
  },
  {
   "cell_type": "code",
   "execution_count": null,
   "id": "0c0c5834-94e4-448f-b113-ee2cd94d93c9",
   "metadata": {},
   "outputs": [],
   "source": []
  }
 ],
 "metadata": {
  "kernelspec": {
   "display_name": "Python 3.10 - SDK v2",
   "language": "python",
   "name": "python310-sdkv2"
  },
  "language_info": {
   "codemirror_mode": {
    "name": "ipython",
    "version": 3
   },
   "file_extension": ".py",
   "mimetype": "text/x-python",
   "name": "python",
   "nbconvert_exporter": "python",
   "pygments_lexer": "ipython3",
   "version": "3.10.14"
  }
 },
 "nbformat": 4,
 "nbformat_minor": 5
}
